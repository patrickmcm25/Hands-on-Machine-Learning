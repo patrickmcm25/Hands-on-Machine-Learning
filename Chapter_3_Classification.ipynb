{
  "nbformat": 4,
  "nbformat_minor": 0,
  "metadata": {
    "colab": {
      "name": "Chapter 3 - Classification.ipynb",
      "provenance": [],
      "collapsed_sections": [],
      "authorship_tag": "ABX9TyOCbT+2q2CLeDpZNx4YiWNQ",
      "include_colab_link": true
    },
    "kernelspec": {
      "name": "python3",
      "display_name": "Python 3"
    },
    "accelerator": "GPU"
  },
  "cells": [
    {
      "cell_type": "markdown",
      "metadata": {
        "id": "view-in-github",
        "colab_type": "text"
      },
      "source": [
        "<a href=\"https://colab.research.google.com/github/patrickmcm25/Hands-on-Machine-Learning/blob/main/Chapter_3_Classification.ipynb\" target=\"_parent\"><img src=\"https://colab.research.google.com/assets/colab-badge.svg\" alt=\"Open In Colab\"/></a>"
      ]
    },
    {
      "cell_type": "markdown",
      "metadata": {
        "id": "MXOZBQXwvUWU"
      },
      "source": [
        "#Chapter 3  - Classification\r\n"
      ]
    },
    {
      "cell_type": "markdown",
      "metadata": {
        "id": "j3lqXdvDvYuC"
      },
      "source": [
        "##MNIST"
      ]
    },
    {
      "cell_type": "code",
      "metadata": {
        "id": "sFT0hc0gv7jJ"
      },
      "source": [
        "\r\n",
        "# Python ≥3.5 is required\r\n",
        "import sys\r\n",
        "assert sys.version_info >= (3, 5)\r\n",
        "\r\n",
        "# Scikit-Learn ≥0.20 is required\r\n",
        "import sklearn\r\n",
        "assert sklearn.__version__ >= \"0.20\"\r\n",
        "\r\n",
        "# Common imports\r\n",
        "import numpy as np\r\n",
        "import os\r\n",
        "\r\n",
        "# to make this notebook's output stable across runs\r\n",
        "np.random.seed(42)\r\n",
        "\r\n",
        "# To plot pretty figures\r\n",
        "%matplotlib inline\r\n",
        "import matplotlib as mpl\r\n",
        "import matplotlib.pyplot as plt\r\n",
        "mpl.rc('axes', labelsize=14)\r\n",
        "mpl.rc('xtick', labelsize=12)\r\n",
        "mpl.rc('ytick', labelsize=12)\r\n",
        "\r\n",
        "# Where to save the figures\r\n",
        "PROJECT_ROOT_DIR = \".\"\r\n",
        "CHAPTER_ID = \"classification\"\r\n",
        "IMAGES_PATH = os.path.join(PROJECT_ROOT_DIR, \"images\", CHAPTER_ID)\r\n",
        "os.makedirs(IMAGES_PATH, exist_ok=True)\r\n",
        "\r\n",
        "def save_fig(fig_id, tight_layout=True, fig_extension=\"png\", resolution=300):\r\n",
        "    path = os.path.join(IMAGES_PATH, fig_id + \".\" + fig_extension)\r\n",
        "    print(\"Saving figure\", fig_id)\r\n",
        "    if tight_layout:\r\n",
        "        plt.tight_layout()\r\n",
        "    plt.savefig(path, format=fig_extension, dpi=resolution)"
      ],
      "execution_count": 2,
      "outputs": []
    },
    {
      "cell_type": "code",
      "metadata": {
        "colab": {
          "base_uri": "https://localhost:8080/"
        },
        "id": "IT6pSjgvvJme",
        "outputId": "81c86199-b579-474d-8139-b770d11c346d"
      },
      "source": [
        "from sklearn.datasets import fetch_openml\r\n",
        "\r\n",
        "mnist = fetch_openml('mnist_784', version=1, as_frame=False)\r\n",
        "mnist.keys()"
      ],
      "execution_count": 3,
      "outputs": [
        {
          "output_type": "execute_result",
          "data": {
            "text/plain": [
              "dict_keys(['data', 'target', 'frame', 'feature_names', 'target_names', 'DESCR', 'details', 'categories', 'url'])"
            ]
          },
          "metadata": {
            "tags": []
          },
          "execution_count": 3
        }
      ]
    },
    {
      "cell_type": "code",
      "metadata": {
        "colab": {
          "base_uri": "https://localhost:8080/"
        },
        "id": "HZP27qdxviDM",
        "outputId": "ac8b3863-4912-41bb-8a43-d7cd072b116c"
      },
      "source": [
        "# 70,000 images and each image has 784 features. Each image is 28 X 28 pixels\r\n",
        "\r\n",
        "X, y = mnist['data'], mnist['target']\r\n",
        "X.shape"
      ],
      "execution_count": 4,
      "outputs": [
        {
          "output_type": "execute_result",
          "data": {
            "text/plain": [
              "(70000, 784)"
            ]
          },
          "metadata": {
            "tags": []
          },
          "execution_count": 4
        }
      ]
    },
    {
      "cell_type": "code",
      "metadata": {
        "colab": {
          "base_uri": "https://localhost:8080/"
        },
        "id": "LT-FXCkD1MGb",
        "outputId": "0831c926-0a84-4660-c766-843839464a1e"
      },
      "source": [
        "y.shape"
      ],
      "execution_count": 5,
      "outputs": [
        {
          "output_type": "execute_result",
          "data": {
            "text/plain": [
              "(70000,)"
            ]
          },
          "metadata": {
            "tags": []
          },
          "execution_count": 5
        }
      ]
    },
    {
      "cell_type": "code",
      "metadata": {
        "colab": {
          "base_uri": "https://localhost:8080/",
          "height": 248
        },
        "id": "gyKxVjxZ1OmI",
        "outputId": "38261534-ee8d-4b40-9f58-c436f9b7dcaa"
      },
      "source": [
        "some_digit = X[0]\r\n",
        "some_digit_image = some_digit.reshape(28, 28)\r\n",
        "\r\n",
        "plt.imshow(some_digit_image, cmap=mpl.cm.binary, \r\n",
        "           interpolation='nearest')\r\n",
        "plt.axis('off')\r\n",
        "plt.show()"
      ],
      "execution_count": 6,
      "outputs": [
        {
          "output_type": "display_data",
          "data": {
            "image/png": "[encoded data removed]",
            "text/plain": [
              "<Figure size 432x288 with 1 Axes>"
            ]
          },
          "metadata": {
            "tags": [],
            "needs_background": "light"
          }
        }
      ]
    },
    {
      "cell_type": "code",
      "metadata": {
        "colab": {
          "base_uri": "https://localhost:8080/",
          "height": 35
        },
        "id": "9fRNijzK1vQi",
        "outputId": "4f2f2dd5-2d87-4393-895b-9c8903c077ea"
      },
      "source": [
        "y[0]"
      ],
      "execution_count": 7,
      "outputs": [
        {
          "output_type": "execute_result",
          "data": {
            "application/vnd.google.colaboratory.intrinsic+json": {
              "type": "string"
            },
            "text/plain": [
              "'5'"
            ]
          },
          "metadata": {
            "tags": []
          },
          "execution_count": 7
        }
      ]
    },
    {
      "cell_type": "code",
      "metadata": {
        "id": "Lg3mDR4y2BuS"
      },
      "source": [
        "# First 60K is training, next 10K (70K images - 60K training) is test\r\n",
        "X_train, X_test =  X[:60000], X[60000:]\r\n",
        "y_train, y_test = y[:60000], y[60000:]"
      ],
      "execution_count": 8,
      "outputs": []
    },
    {
      "cell_type": "code",
      "metadata": {
        "id": "U2RNa-ii2jwE"
      },
      "source": [
        "# Shuffle the training sets\r\n",
        "\r\n",
        "#shuffle_index = np.random.permutation(60000)\r\n",
        "#X_train, y_train = X_train[shuffle_index], y_train[shuffle_index]"
      ],
      "execution_count": 9,
      "outputs": []
    },
    {
      "cell_type": "markdown",
      "metadata": {
        "id": "a5s49HjT3DHE"
      },
      "source": [
        "##Training a Binary Classifier"
      ]
    },
    {
      "cell_type": "code",
      "metadata": {
        "id": "w0vr2yWj3BZg"
      },
      "source": [
        "# Let try to identify one digit (5 and not 5)\r\n",
        "y_train_5 = (y_train == '5')\r\n",
        "y_test_5 = (y_test == '5')"
      ],
      "execution_count": 10,
      "outputs": []
    },
    {
      "cell_type": "code",
      "metadata": {
        "colab": {
          "base_uri": "https://localhost:8080/"
        },
        "id": "5vI8kbfe3Umf",
        "outputId": "45f1df5e-12f5-4145-d04f-8c9c321d3633"
      },
      "source": [
        "from sklearn.linear_model import SGDClassifier\r\n",
        "\r\n",
        "sgd_clf = SGDClassifier(max_iter=1000, tol=1e-3, random_state=42)\r\n",
        "sgd_clf.fit(X_train, y_train_5)"
      ],
      "execution_count": 11,
      "outputs": [
        {
          "output_type": "execute_result",
          "data": {
            "text/plain": [
              "SGDClassifier(alpha=0.0001, average=False, class_weight=None,\n",
              "              early_stopping=False, epsilon=0.1, eta0=0.0, fit_intercept=True,\n",
              "              l1_ratio=0.15, learning_rate='optimal', loss='hinge',\n",
              "              max_iter=1000, n_iter_no_change=5, n_jobs=None, penalty='l2',\n",
              "              power_t=0.5, random_state=42, shuffle=True, tol=0.001,\n",
              "              validation_fraction=0.1, verbose=0, warm_start=False)"
            ]
          },
          "metadata": {
            "tags": []
          },
          "execution_count": 11
        }
      ]
    },
    {
      "cell_type": "code",
      "metadata": {
        "colab": {
          "base_uri": "https://localhost:8080/"
        },
        "id": "IolyiZ5P3rpR",
        "outputId": "1cb01bad-c846-45d7-bfe7-d857c5615e98"
      },
      "source": [
        "# This predicted that it will be a 5 which is true based on the above image\r\n",
        "sgd_clf.predict([some_digit])"
      ],
      "execution_count": 12,
      "outputs": [
        {
          "output_type": "execute_result",
          "data": {
            "text/plain": [
              "array([ True])"
            ]
          },
          "metadata": {
            "tags": []
          },
          "execution_count": 12
        }
      ]
    },
    {
      "cell_type": "markdown",
      "metadata": {
        "id": "0QgkS_Fu58or"
      },
      "source": [
        "##Performance Measures"
      ]
    },
    {
      "cell_type": "markdown",
      "metadata": {
        "id": "xNQ16K0J6MmV"
      },
      "source": [
        "Measuring Accuracy Using Cross Validation"
      ]
    },
    {
      "cell_type": "code",
      "metadata": {
        "colab": {
          "base_uri": "https://localhost:8080/"
        },
        "id": "NN2IIAcr5zhD",
        "outputId": "096c623b-2959-4b61-b4e5-87cc66868a51"
      },
      "source": [
        "# Stratified sampling that creates a clone of the classifier, trains the clone on the training folds, makes predictions on the fold, then counts the number of correct predictions\r\n",
        "\r\n",
        "from sklearn.model_selection import StratifiedKFold\r\n",
        "from sklearn.base import clone\r\n",
        "\r\n",
        "skfolds = StratifiedKFold(n_splits=3, random_state=42, shuffle=True)\r\n",
        "\r\n",
        "for train_index, test_index in skfolds.split(X_train, y_train_5):\r\n",
        "  clone_clf = clone(sgd_clf)\r\n",
        "  X_train_folds = X_train[train_index]\r\n",
        "  y_train_folds = (y_train_5[train_index])\r\n",
        "  X_test_fold = X_train[test_index]\r\n",
        "  y_test_fold = (y_train_5[test_index])\r\n",
        "\r\n",
        "  clone_clf.fit(X_train_folds, y_train_folds)\r\n",
        "  y_pred = clone_clf.predict(X_test_fold)\r\n",
        "  n_correct = sum(y_pred == y_test_fold)\r\n",
        "  print(n_correct / len(y_pred))"
      ],
      "execution_count": 13,
      "outputs": [
        {
          "output_type": "stream",
          "text": [
            "0.9669\n",
            "0.91625\n",
            "0.96785\n"
          ],
          "name": "stdout"
        }
      ]
    },
    {
      "cell_type": "code",
      "metadata": {
        "colab": {
          "base_uri": "https://localhost:8080/"
        },
        "id": "rAnXu9X67ZuV",
        "outputId": "2188540f-f2fa-481d-9ba4-e7e10b4c4b1e"
      },
      "source": [
        "# Evaluate the SGDClassifier model using K-fold cross validation using 3 folds (cv=3)\r\n",
        "\r\n",
        "from sklearn.model_selection import cross_val_score\r\n",
        "\r\n",
        "cross_val_score(sgd_clf, X_train, y_train_5, cv = 3, scoring='accuracy')"
      ],
      "execution_count": 14,
      "outputs": [
        {
          "output_type": "execute_result",
          "data": {
            "text/plain": [
              "array([0.95035, 0.96035, 0.9604 ])"
            ]
          },
          "metadata": {
            "tags": []
          },
          "execution_count": 14
        }
      ]
    },
    {
      "cell_type": "markdown",
      "metadata": {
        "id": "_E9KUsTa8inR"
      },
      "source": [
        "Confusion Matrix"
      ]
    },
    {
      "cell_type": "markdown",
      "metadata": {
        "id": "QRWLvE8p8mKU"
      },
      "source": [
        " - Much better way to evaluate the performance of a classifier"
      ]
    },
    {
      "cell_type": "code",
      "metadata": {
        "id": "7G3sPLfx8MoQ"
      },
      "source": [
        "from sklearn.model_selection import cross_val_predict\r\n",
        "\r\n",
        "y_train_pred = cross_val_predict(sgd_clf, X_train, y_train_5, cv=3)"
      ],
      "execution_count": 15,
      "outputs": []
    },
    {
      "cell_type": "code",
      "metadata": {
        "colab": {
          "base_uri": "https://localhost:8080/"
        },
        "id": "GvZAn9Pk85hP",
        "outputId": "274dce6a-652a-4de6-b80e-6a1a94f0d857"
      },
      "source": [
        "from sklearn.metrics import confusion_matrix\r\n",
        "\r\n",
        "confusion_matrix(y_train_5, y_train_pred)"
      ],
      "execution_count": 16,
      "outputs": [
        {
          "output_type": "execute_result",
          "data": {
            "text/plain": [
              "array([[53892,   687],\n",
              "       [ 1891,  3530]])"
            ]
          },
          "metadata": {
            "tags": []
          },
          "execution_count": 16
        }
      ]
    },
    {
      "cell_type": "markdown",
      "metadata": {
        "id": "Q_2R6tvc9Q3X"
      },
      "source": [
        "- 53,892 classified correctly as non 5s (negative class)\r\n",
        "- 687 were wrongly classified as non 5s (false positives)\r\n",
        "- 1891 were wrongly classified as 5s (false negatives)\r\n",
        "- 3530 were correctly classfied as 5s (true positives)"
      ]
    },
    {
      "cell_type": "markdown",
      "metadata": {
        "id": "wxrVbgTg-FDG"
      },
      "source": [
        "Precision and Recall"
      ]
    },
    {
      "cell_type": "code",
      "metadata": {
        "id": "05QpoTL_95zU",
        "colab": {
          "base_uri": "https://localhost:8080/"
        },
        "outputId": "cd3fd03f-0889-4956-e2ed-d70a8bb66532"
      },
      "source": [
        "from sklearn.metrics import precision_score, recall_score\r\n",
        "\r\n",
        "precision_score(y_train_5, y_train_pred)"
      ],
      "execution_count": 17,
      "outputs": [
        {
          "output_type": "execute_result",
          "data": {
            "text/plain": [
              "0.8370879772350012"
            ]
          },
          "metadata": {
            "tags": []
          },
          "execution_count": 17
        }
      ]
    },
    {
      "cell_type": "code",
      "metadata": {
        "id": "-HvIiniuJIrb",
        "colab": {
          "base_uri": "https://localhost:8080/"
        },
        "outputId": "9838fa0a-3b42-4dbb-ffc8-870e84ef74df"
      },
      "source": [
        "cm = confusion_matrix(y_train_5, y_train_pred)\r\n",
        "cm[1, 1] / (cm[0, 1] + cm[1, 1])"
      ],
      "execution_count": 18,
      "outputs": [
        {
          "output_type": "execute_result",
          "data": {
            "text/plain": [
              "0.8370879772350012"
            ]
          },
          "metadata": {
            "tags": []
          },
          "execution_count": 18
        }
      ]
    },
    {
      "cell_type": "code",
      "metadata": {
        "id": "Zo8ilUkaJ-U6",
        "colab": {
          "base_uri": "https://localhost:8080/"
        },
        "outputId": "03f87b5a-85e9-4752-bfd4-0de6192d494a"
      },
      "source": [
        "recall_score(y_train_5, y_train_pred)"
      ],
      "execution_count": 19,
      "outputs": [
        {
          "output_type": "execute_result",
          "data": {
            "text/plain": [
              "0.6511713705958311"
            ]
          },
          "metadata": {
            "tags": []
          },
          "execution_count": 19
        }
      ]
    },
    {
      "cell_type": "code",
      "metadata": {
        "id": "b4hDBlRVKCbf",
        "colab": {
          "base_uri": "https://localhost:8080/"
        },
        "outputId": "84b8a19a-6874-41af-bcbf-d144853e25dd"
      },
      "source": [
        "# Same thing as recall score - the hard way\r\n",
        "cm[1, 1] / (cm[1, 0] + cm[1, 1])"
      ],
      "execution_count": 20,
      "outputs": [
        {
          "output_type": "execute_result",
          "data": {
            "text/plain": [
              "0.6511713705958311"
            ]
          },
          "metadata": {
            "tags": []
          },
          "execution_count": 20
        }
      ]
    },
    {
      "cell_type": "code",
      "metadata": {
        "id": "eWEvdEprKIKO",
        "colab": {
          "base_uri": "https://localhost:8080/"
        },
        "outputId": "225d92ac-94f4-4662-c92e-125934dcf71b"
      },
      "source": [
        "from sklearn.metrics import f1_score\r\n",
        "\r\n",
        "f1_score(y_train_5, y_train_pred)"
      ],
      "execution_count": 21,
      "outputs": [
        {
          "output_type": "execute_result",
          "data": {
            "text/plain": [
              "0.7325171197343846"
            ]
          },
          "metadata": {
            "tags": []
          },
          "execution_count": 21
        }
      ]
    },
    {
      "cell_type": "code",
      "metadata": {
        "id": "tEgELQhoKWS2",
        "outputId": "7d01d625-b354-49d0-c6bf-df58634efb19",
        "colab": {
          "base_uri": "https://localhost:8080/"
        }
      },
      "source": [
        "y_scores = sgd_clf.decision_function([some_digit])\r\n",
        "y_scores"
      ],
      "execution_count": 23,
      "outputs": [
        {
          "output_type": "execute_result",
          "data": {
            "text/plain": [
              "array([2164.22030239])"
            ]
          },
          "metadata": {
            "tags": []
          },
          "execution_count": 23
        }
      ]
    },
    {
      "cell_type": "code",
      "metadata": {
        "id": "hZ1hlx-nhjHI",
        "outputId": "5b664a45-739d-4947-e3fb-665e46875f9a",
        "colab": {
          "base_uri": "https://localhost:8080/"
        }
      },
      "source": [
        "threshold = 0\r\n",
        "y_some_digit_pred = (y_scores > threshold)\r\n",
        "y_some_digit_pred"
      ],
      "execution_count": 25,
      "outputs": [
        {
          "output_type": "execute_result",
          "data": {
            "text/plain": [
              "array([ True])"
            ]
          },
          "metadata": {
            "tags": []
          },
          "execution_count": 25
        }
      ]
    },
    {
      "cell_type": "code",
      "metadata": {
        "id": "oHGNgf1Phrxm",
        "outputId": "a6ad4d26-280b-413b-fb01-6c8ed22caaa7",
        "colab": {
          "base_uri": "https://localhost:8080/"
        }
      },
      "source": [
        "threshold = 8000\r\n",
        "y_some_digit_pred = (y_scores > threshold)\r\n",
        "y_some_digit_pred"
      ],
      "execution_count": 26,
      "outputs": [
        {
          "output_type": "execute_result",
          "data": {
            "text/plain": [
              "array([False])"
            ]
          },
          "metadata": {
            "tags": []
          },
          "execution_count": 26
        }
      ]
    },
    {
      "cell_type": "code",
      "metadata": {
        "id": "QA0DPcprh6xb"
      },
      "source": [
        "y_scores = cross_val_predict(sgd_clf, X_train, y_train_5, cv=3, method='decision_function')"
      ],
      "execution_count": 27,
      "outputs": []
    },
    {
      "cell_type": "code",
      "metadata": {
        "id": "C5NJvCrPiFrT",
        "outputId": "00dff23a-dc76-464d-b951-ea89b229ebf0",
        "colab": {
          "base_uri": "https://localhost:8080/",
          "height": 292
        }
      },
      "source": [
        "# A way to show how to determine which threshold to use \r\n",
        "\r\n",
        "from sklearn.metrics import precision_recall_curve\r\n",
        "\r\n",
        "precisions, recalls, thresholds = precision_recall_curve(y_train_5, y_scores)\r\n",
        "\r\n",
        "def plot_precision_recall_vs_threshold(precisions, recalls, thresholds):\r\n",
        "  plt.plot(thresholds, precisions[:-1], \"b--\", label=\"Precision\", linewidth=2)\r\n",
        "  plt.plot(thresholds, recalls[:-1], \"g-\", label=\"Recall\", linewidth=2)\r\n",
        "  plt.legend(loc='center right', fontsize=16)\r\n",
        "  plt.xlabel('Threshold', fontsize=16)\r\n",
        "  plt.grid(True)\r\n",
        "  plt.axis([-50000, 50000, 0, 1])\r\n",
        "\r\n",
        "recall_90_precision = recalls[np.argmax(precisions >= 0.90)]\r\n",
        "threshold_90_precision = thresholds[np.argmax(precisions >= 0.90)]\r\n",
        "\r\n",
        "plt.figure(figsize=(8, 4))\r\n",
        "plot_precision_recall_vs_threshold(precisions, recalls, thresholds)\r\n",
        "plt.plot([threshold_90_precision, threshold_90_precision], [0., 0.9], \"r:\")                 # Not shown\r\n",
        "plt.plot([-50000, threshold_90_precision], [0.9, 0.9], \"r:\")                                # Not shown\r\n",
        "plt.plot([-50000, threshold_90_precision], [recall_90_precision, recall_90_precision], \"r:\")# Not shown\r\n",
        "plt.plot([threshold_90_precision], [0.9], \"ro\")                                             # Not shown\r\n",
        "plt.plot([threshold_90_precision], [recall_90_precision], \"ro\")                             # Not shown\r\n",
        "\r\n",
        "plt.show()"
      ],
      "execution_count": 32,
      "outputs": [
        {
          "output_type": "display_data",
          "data": {
            "image/png": "[encoded data removed]",
            "text/plain": [
              "<Figure size 576x288 with 1 Axes>"
            ]
          },
          "metadata": {
            "tags": [],
            "needs_background": "light"
          }
        }
      ]
    },
    {
      "cell_type": "code",
      "metadata": {
        "id": "H7v-MRVgixND",
        "outputId": "182b0453-2edb-4c95-b9d7-e53404d022ec",
        "colab": {
          "base_uri": "https://localhost:8080/",
          "height": 458
        }
      },
      "source": [
        "# Plot precision directly against recall\r\n",
        "\r\n",
        "def plot_precision_vs_recall(precisions, recalls):\r\n",
        "    plt.plot(recalls, precisions, \"b-\", linewidth=2)\r\n",
        "    plt.xlabel(\"Recall\", fontsize=16)\r\n",
        "    plt.ylabel(\"Precision\", fontsize=16)\r\n",
        "    plt.axis([0, 1, 0, 1])\r\n",
        "    plt.grid(True)\r\n",
        "\r\n",
        "plt.figure(figsize=(8, 6))\r\n",
        "plot_precision_vs_recall(precisions, recalls)\r\n",
        "plt.plot([recall_90_precision, recall_90_precision], [0., 0.9], \"r:\")\r\n",
        "plt.plot([0.0, recall_90_precision], [0.9, 0.9], \"r:\")\r\n",
        "plt.plot([recall_90_precision], [0.9], \"ro\")\r\n",
        "save_fig(\"precision_vs_recall_plot\")\r\n",
        "\r\n",
        "plt.show()"
      ],
      "execution_count": 33,
      "outputs": [
        {
          "output_type": "stream",
          "text": [
            "Saving figure precision_vs_recall_plot\n"
          ],
          "name": "stdout"
        },
        {
          "output_type": "display_data",
          "data": {
            "image/png": "[encoded data removed]",
            "text/plain": [
              "<Figure size 576x432 with 1 Axes>"
            ]
          },
          "metadata": {
            "tags": [],
            "needs_background": "light"
          }
        }
      ]
    },
    {
      "cell_type": "markdown",
      "metadata": {
        "id": "hFbAOb7sk72_"
      },
      "source": [
        "Precision starts to fall sharply around 80% recall"
      ]
    },
    {
      "cell_type": "code",
      "metadata": {
        "id": "0ghtvqzGk1vW"
      },
      "source": [
        ""
      ],
      "execution_count": null,
      "outputs": []
    }
  ]
}