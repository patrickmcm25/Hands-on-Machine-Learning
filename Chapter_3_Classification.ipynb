{
  "nbformat": 4,
  "nbformat_minor": 0,
  "metadata": {
    "colab": {
      "name": "Chapter 3 - Classification.ipynb",
      "provenance": [],
      "collapsed_sections": [],
      "authorship_tag": "ABX9TyP711o/JqTUhGsSOeMuml14",
      "include_colab_link": true
    },
    "kernelspec": {
      "name": "python3",
      "display_name": "Python 3"
    }
  },
  "cells": [
    {
      "cell_type": "markdown",
      "metadata": {
        "id": "view-in-github",
        "colab_type": "text"
      },
      "source": [
        "<a href=\"https://colab.research.google.com/github/patrickmcm25/Hands-on-Machine-Learning/blob/main/Chapter_3_Classification.ipynb\" target=\"_parent\"><img src=\"https://colab.research.google.com/assets/colab-badge.svg\" alt=\"Open In Colab\"/></a>"
      ]
    },
    {
      "cell_type": "markdown",
      "metadata": {
        "id": "MXOZBQXwvUWU"
      },
      "source": [
        "#Chapter 3  - Classification\r\n"
      ]
    },
    {
      "cell_type": "markdown",
      "metadata": {
        "id": "j3lqXdvDvYuC"
      },
      "source": [
        "##MNIST"
      ]
    },
    {
      "cell_type": "code",
      "metadata": {
        "id": "sFT0hc0gv7jJ"
      },
      "source": [
        "\r\n",
        "# Python ≥3.5 is required\r\n",
        "import sys\r\n",
        "assert sys.version_info >= (3, 5)\r\n",
        "\r\n",
        "# Scikit-Learn ≥0.20 is required\r\n",
        "import sklearn\r\n",
        "assert sklearn.__version__ >= \"0.20\"\r\n",
        "\r\n",
        "# Common imports\r\n",
        "import numpy as np\r\n",
        "import os\r\n",
        "\r\n",
        "# to make this notebook's output stable across runs\r\n",
        "np.random.seed(42)\r\n",
        "\r\n",
        "# To plot pretty figures\r\n",
        "%matplotlib inline\r\n",
        "import matplotlib as mpl\r\n",
        "import matplotlib.pyplot as plt\r\n",
        "mpl.rc('axes', labelsize=14)\r\n",
        "mpl.rc('xtick', labelsize=12)\r\n",
        "mpl.rc('ytick', labelsize=12)\r\n",
        "\r\n",
        "# Where to save the figures\r\n",
        "PROJECT_ROOT_DIR = \".\"\r\n",
        "CHAPTER_ID = \"classification\"\r\n",
        "IMAGES_PATH = os.path.join(PROJECT_ROOT_DIR, \"images\", CHAPTER_ID)\r\n",
        "os.makedirs(IMAGES_PATH, exist_ok=True)\r\n",
        "\r\n",
        "def save_fig(fig_id, tight_layout=True, fig_extension=\"png\", resolution=300):\r\n",
        "    path = os.path.join(IMAGES_PATH, fig_id + \".\" + fig_extension)\r\n",
        "    print(\"Saving figure\", fig_id)\r\n",
        "    if tight_layout:\r\n",
        "        plt.tight_layout()\r\n",
        "    plt.savefig(path, format=fig_extension, dpi=resolution)"
      ],
      "execution_count": 2,
      "outputs": []
    },
    {
      "cell_type": "code",
      "metadata": {
        "colab": {
          "base_uri": "https://localhost:8080/"
        },
        "id": "IT6pSjgvvJme",
        "outputId": "5d6c2791-db85-4261-a426-b8f0b36bb014"
      },
      "source": [
        "from sklearn.datasets import fetch_openml\r\n",
        "\r\n",
        "mnist = fetch_openml('mnist_784', version=1, as_frame=False)\r\n",
        "mnist.keys()"
      ],
      "execution_count": 4,
      "outputs": [
        {
          "output_type": "execute_result",
          "data": {
            "text/plain": [
              "dict_keys(['data', 'target', 'frame', 'feature_names', 'target_names', 'DESCR', 'details', 'categories', 'url'])"
            ]
          },
          "metadata": {
            "tags": []
          },
          "execution_count": 4
        }
      ]
    },
    {
      "cell_type": "code",
      "metadata": {
        "colab": {
          "base_uri": "https://localhost:8080/"
        },
        "id": "HZP27qdxviDM",
        "outputId": "9743297f-a1e6-42c0-a31c-41d6f87bb400"
      },
      "source": [
        "# 70,000 images and each image has 784 features. Each image is 28 X 28 pixels\r\n",
        "\r\n",
        "X, y = mnist['data'], mnist['target']\r\n",
        "X.shape"
      ],
      "execution_count": 6,
      "outputs": [
        {
          "output_type": "execute_result",
          "data": {
            "text/plain": [
              "(70000, 784)"
            ]
          },
          "metadata": {
            "tags": []
          },
          "execution_count": 6
        }
      ]
    },
    {
      "cell_type": "code",
      "metadata": {
        "colab": {
          "base_uri": "https://localhost:8080/"
        },
        "id": "LT-FXCkD1MGb",
        "outputId": "b8856289-d909-4eef-d188-69a4c4f9c47d"
      },
      "source": [
        "y.shape"
      ],
      "execution_count": 7,
      "outputs": [
        {
          "output_type": "execute_result",
          "data": {
            "text/plain": [
              "(70000,)"
            ]
          },
          "metadata": {
            "tags": []
          },
          "execution_count": 7
        }
      ]
    },
    {
      "cell_type": "code",
      "metadata": {
        "colab": {
          "base_uri": "https://localhost:8080/",
          "height": 248
        },
        "id": "gyKxVjxZ1OmI",
        "outputId": "c474ca4c-363a-42f0-82fb-adee979999bb"
      },
      "source": [
        "some_digit = X[0]\r\n",
        "some_digit_image = some_digit.reshape(28, 28)\r\n",
        "\r\n",
        "plt.imshow(some_digit_image, cmap=mpl.cm.binary, \r\n",
        "           interpolation='nearest')\r\n",
        "plt.axis('off')\r\n",
        "plt.show()"
      ],
      "execution_count": 10,
      "outputs": [
        {
          "output_type": "display_data",
          "data": {
            "image/png": "[encoded data removed]",
            "text/plain": [
              "<Figure size 432x288 with 1 Axes>"
            ]
          },
          "metadata": {
            "tags": [],
            "needs_background": "light"
          }
        }
      ]
    },
    {
      "cell_type": "code",
      "metadata": {
        "colab": {
          "base_uri": "https://localhost:8080/",
          "height": 35
        },
        "id": "9fRNijzK1vQi",
        "outputId": "693b2f21-1517-415b-898a-1ee364f9d1fe"
      },
      "source": [
        "y[0]"
      ],
      "execution_count": 12,
      "outputs": [
        {
          "output_type": "execute_result",
          "data": {
            "application/vnd.google.colaboratory.intrinsic+json": {
              "type": "string"
            },
            "text/plain": [
              "'5'"
            ]
          },
          "metadata": {
            "tags": []
          },
          "execution_count": 12
        }
      ]
    },
    {
      "cell_type": "code",
      "metadata": {
        "id": "Lg3mDR4y2BuS"
      },
      "source": [
        "# First 60K is training, next 10K (70K images - 60K training) is test\r\n",
        "X_train, X_test =  X[:60000], X[60000:]\r\n",
        "y_train, y_test = y[:60000], y[60000:]"
      ],
      "execution_count": 41,
      "outputs": []
    },
    {
      "cell_type": "code",
      "metadata": {
        "id": "U2RNa-ii2jwE"
      },
      "source": [
        "# Shuffle the training sets\r\n",
        "\r\n",
        "#shuffle_index = np.random.permutation(60000)\r\n",
        "#X_train, y_train = X_train[shuffle_index], y_train[shuffle_index]"
      ],
      "execution_count": 42,
      "outputs": []
    },
    {
      "cell_type": "markdown",
      "metadata": {
        "id": "a5s49HjT3DHE"
      },
      "source": [
        "##Training a Binary Classifier"
      ]
    },
    {
      "cell_type": "code",
      "metadata": {
        "id": "w0vr2yWj3BZg"
      },
      "source": [
        "# Let try to identify one digit (5 and not 5)\r\n",
        "y_train_5 = (y_train == 5)\r\n",
        "y_test_5 = (y_test == 5)"
      ],
      "execution_count": 43,
      "outputs": []
    },
    {
      "cell_type": "code",
      "metadata": {
        "colab": {
          "base_uri": "https://localhost:8080/"
        },
        "id": "5vI8kbfe3Umf",
        "outputId": "f1eaecdf-0c88-42af-ad82-2a0ea83df0ce"
      },
      "source": [
        "from sklearn.linear_model import SGDClassifier\r\n",
        "\r\n",
        "sgd_clf = SGDClassifier(max_iter=1000, tol=1e-3, random_state=42)\r\n",
        "sgd_clf.fit(X_train, y_train_5)"
      ],
      "execution_count": 44,
      "outputs": [
        {
          "output_type": "execute_result",
          "data": {
            "text/plain": [
              "SGDClassifier(alpha=0.0001, average=False, class_weight=None,\n",
              "              early_stopping=False, epsilon=0.1, eta0=0.0, fit_intercept=True,\n",
              "              l1_ratio=0.15, learning_rate='optimal', loss='hinge',\n",
              "              max_iter=1000, n_iter_no_change=5, n_jobs=None, penalty='l2',\n",
              "              power_t=0.5, random_state=42, shuffle=True, tol=0.001,\n",
              "              validation_fraction=0.1, verbose=0, warm_start=False)"
            ]
          },
          "metadata": {
            "tags": []
          },
          "execution_count": 44
        }
      ]
    },
    {
      "cell_type": "code",
      "metadata": {
        "colab": {
          "base_uri": "https://localhost:8080/"
        },
        "id": "IolyiZ5P3rpR",
        "outputId": "4ebf4cda-8be7-4e14-bdd8-03f37356a258"
      },
      "source": [
        "# This predicted that it will be a 5 which is true based on the above image\r\n",
        "sgd_clf.predict([some_digit])"
      ],
      "execution_count": 45,
      "outputs": [
        {
          "output_type": "execute_result",
          "data": {
            "text/plain": [
              "array([ True])"
            ]
          },
          "metadata": {
            "tags": []
          },
          "execution_count": 45
        }
      ]
    },
    {
      "cell_type": "markdown",
      "metadata": {
        "id": "0QgkS_Fu58or"
      },
      "source": [
        "##Performance Measures"
      ]
    },
    {
      "cell_type": "markdown",
      "metadata": {
        "id": "xNQ16K0J6MmV"
      },
      "source": [
        "Measuring Accuracy Using Cross Validation"
      ]
    },
    {
      "cell_type": "code",
      "metadata": {
        "colab": {
          "base_uri": "https://localhost:8080/"
        },
        "id": "NN2IIAcr5zhD",
        "outputId": "35e630b5-9034-4e3f-a911-01e41ad8dc55"
      },
      "source": [
        "# Stratified sampling that creates a clone of the classifier, trains the clone on the training folds, makes predictions on the fold, then counts the number of correct predictions\r\n",
        "\r\n",
        "from sklearn.model_selection import StratifiedKFold\r\n",
        "from sklearn.base import clone\r\n",
        "\r\n",
        "skfolds = StratifiedKFold(n_splits=3, random_state=42, shuffle=True)\r\n",
        "\r\n",
        "for train_index, test_index in skfolds.split(X_train, y_train_5):\r\n",
        "  clone_clf = clone(sgd_clf)\r\n",
        "  X_train_folds = X_train[train_index]\r\n",
        "  y_train_folds = (y_train_5[train_index])\r\n",
        "  X_test_fold = X_train[test_index]\r\n",
        "  y_test_fold = (y_train_5[test_index])\r\n",
        "\r\n",
        "  clone_clf.fit(X_train_folds, y_train_folds)\r\n",
        "  y_pred = clone_clf.predict(X_test_fold)\r\n",
        "  n_correct = sum(y_pred == y_test_fold)\r\n",
        "  print(n_correct / len(y_pred))"
      ],
      "execution_count": 48,
      "outputs": [
        {
          "output_type": "stream",
          "text": [
            "0.9669\n",
            "0.91625\n",
            "0.96785\n"
          ],
          "name": "stdout"
        }
      ]
    },
    {
      "cell_type": "code",
      "metadata": {
        "colab": {
          "base_uri": "https://localhost:8080/"
        },
        "id": "rAnXu9X67ZuV",
        "outputId": "51019f63-6565-4254-f1c0-31d6a69caab3"
      },
      "source": [
        "# Evaluate the SGDClassifier model using K-fold cross validation using 3 folds (cv=3)\r\n",
        "\r\n",
        "from sklearn.model_selection import cross_val_score\r\n",
        "\r\n",
        "cross_val_score(sgd_clf, X_train, y_train_5, cv = 3, scoring='accuracy')"
      ],
      "execution_count": 49,
      "outputs": [
        {
          "output_type": "execute_result",
          "data": {
            "text/plain": [
              "array([0.95035, 0.96035, 0.9604 ])"
            ]
          },
          "metadata": {
            "tags": []
          },
          "execution_count": 49
        }
      ]
    },
    {
      "cell_type": "markdown",
      "metadata": {
        "id": "_E9KUsTa8inR"
      },
      "source": [
        "Confusion Matrix"
      ]
    },
    {
      "cell_type": "markdown",
      "metadata": {
        "id": "QRWLvE8p8mKU"
      },
      "source": [
        " - Much better way to evaluate the performance of a classifier"
      ]
    },
    {
      "cell_type": "code",
      "metadata": {
        "id": "7G3sPLfx8MoQ"
      },
      "source": [
        "from sklearn.model_selection import cross_val_predict\r\n",
        "\r\n",
        "y_train_pred = cross_val_predict(sgd_clf, X_train, y_train_5, cv=3)"
      ],
      "execution_count": 50,
      "outputs": []
    },
    {
      "cell_type": "code",
      "metadata": {
        "colab": {
          "base_uri": "https://localhost:8080/"
        },
        "id": "GvZAn9Pk85hP",
        "outputId": "70ec3ada-d118-41b2-e027-b2f7fa71f075"
      },
      "source": [
        "from sklearn.metrics import confusion_matrix\r\n",
        "\r\n",
        "confusion_matrix(y_train_5, y_train_pred)"
      ],
      "execution_count": 51,
      "outputs": [
        {
          "output_type": "execute_result",
          "data": {
            "text/plain": [
              "array([[53892,   687],\n",
              "       [ 1891,  3530]])"
            ]
          },
          "metadata": {
            "tags": []
          },
          "execution_count": 51
        }
      ]
    },
    {
      "cell_type": "markdown",
      "metadata": {
        "id": "Q_2R6tvc9Q3X"
      },
      "source": [
        "- 53,892 classified correctly as non 5s (negative class)\r\n",
        "- 687 were wrongly classified as non 5s (false positives)\r\n",
        "- 1891 were wrongly classified as 5s (false negatives)\r\n",
        "- 3530 were correctly classfied as 5s (true positives)"
      ]
    },
    {
      "cell_type": "markdown",
      "metadata": {
        "id": "wxrVbgTg-FDG"
      },
      "source": [
        "Precision and Recall"
      ]
    },
    {
      "cell_type": "code",
      "metadata": {
        "id": "05QpoTL_95zU"
      },
      "source": [
        "from sklearn.metrics import precision_score, recall_score\r\n",
        "\r\n",
        "precision_score(y_train_5, y_pred)\r\n",
        "recall_score()"
      ],
      "execution_count": null,
      "outputs": []
    }
  ]
}